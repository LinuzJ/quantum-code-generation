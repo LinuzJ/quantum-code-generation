{
 "cells": [
  {
   "cell_type": "code",
   "execution_count": 119,
   "id": "46cb27c0-ce79-4f86-ba7c-57948d2076d9",
   "metadata": {},
   "outputs": [],
   "source": [
    "import networkx as nx\n",
    "import numpy as np\n",
    "import matplotlib.pyplot as plt\n",
    "import json\n",
    "from networkx.readwrite import json_graph"
   ]
  },
  {
   "cell_type": "code",
   "execution_count": 114,
   "id": "1ec01eb4-21cb-4d4c-a582-92dd859f1b7c",
   "metadata": {},
   "outputs": [],
   "source": [
    "import random\n",
    "\n",
    "def generate_random_connected_graph(n, p=0.4, max_tries=1000):\n",
    "    \"\"\"\n",
    "    Generates a single random connected graph with n nodes \n",
    "    under the G(n, p) Erdős–Rényi model, retrying up to max_tries times.\n",
    "    Returns:\n",
    "        G (networkx.Graph): A connected graph\n",
    "    Raises:\n",
    "        ValueError: If unable to find a connected graph within max_tries.\n",
    "    \"\"\"\n",
    "    for _ in range(max_tries):\n",
    "        G = nx.erdos_renyi_graph(n, p)\n",
    "        if nx.is_connected(G):\n",
    "            return G\n",
    "    raise ValueError(f\"Could not generate a connected graph with n={n}, p={p} in {max_tries} tries.\")\n",
    "\n",
    "\n",
    "def generate_distinct_connected_graphs(\n",
    "    min_nodes, \n",
    "    max_nodes, \n",
    "    graphs_per_n=2, \n",
    "    p=0.5\n",
    "):\n",
    "    \"\"\"\n",
    "    Generates random, distinct, connected graphs for each n in [min_nodes, max_nodes].\n",
    "    \n",
    "    Args:\n",
    "        min_nodes (int): Minimum number of nodes.\n",
    "        max_nodes (int): Maximum number of nodes.\n",
    "        graphs_per_n (int): Number of distinct graphs to generate for each n.\n",
    "        p (float): Probability of an edge (Erdős–Rényi G(n, p)).\n",
    "    \n",
    "    Returns:\n",
    "        list of networkx.Graph: A list of generated connected graphs.\n",
    "    \"\"\"\n",
    "    all_graphs = []\n",
    "    seen_signatures = set()\n",
    "\n",
    "    # Iterate over each node count\n",
    "    for n in range(min_nodes, max_nodes + 1):\n",
    "        count = 0\n",
    "        tries = graphs_per_n * 2\n",
    "        while count < graphs_per_n and tries > 0:\n",
    "            # Generate one connected graph for size n\n",
    "            G = generate_random_connected_graph(n, p=p)\n",
    "\n",
    "            # Convert adjacency to a signature to check distinctness\n",
    "            # We'll use numpy to convert adjacency matrix to a 'bytes' signature\n",
    "            adj_matrix = nx.to_numpy_array(G, dtype=int)\n",
    "            signature = adj_matrix.tobytes()\n",
    "\n",
    "            if signature not in seen_signatures:\n",
    "                seen_signatures.add(signature)\n",
    "                all_graphs.append(G)\n",
    "                count += 1\n",
    "            tries -= 1\n",
    "\n",
    "    return all_graphs"
   ]
  },
  {
   "cell_type": "code",
   "execution_count": 120,
   "id": "5d4d02c9-691b-4925-a081-58bbc3cd8769",
   "metadata": {},
   "outputs": [],
   "source": [
    "def save_graph_list_to_json(graphs, filename):\n",
    "    \"\"\"\n",
    "    Saves multiple NetworkX graphs to a single JSON file, each in node-link format.\n",
    "    \n",
    "    Args:\n",
    "        graphs (list of networkx.Graph): The graphs to save.\n",
    "        filename (str): Path to the output JSON file.\n",
    "    \"\"\"\n",
    "    data_list = []\n",
    "    for G in graphs:\n",
    "        graph_data = json_graph.node_link_data(G)\n",
    "        data_list.append(graph_data)\n",
    "    \n",
    "    with open(filename, 'w') as f:\n",
    "        json.dump(data_list, f, indent=2)"
   ]
  },
  {
   "cell_type": "code",
   "execution_count": 117,
   "id": "07565793-f95d-4202-b9f5-bad6430d81e8",
   "metadata": {},
   "outputs": [],
   "source": [
    "    x = 2\n",
    "    y = 15\n",
    "    p = 0.6\n",
    "    \n",
    "    distinct_graphs = generate_distinct_connected_graphs(\n",
    "        min_nodes=x, \n",
    "        max_nodes=y, \n",
    "        graphs_per_n=500, \n",
    "        p=p\n",
    "    )"
   ]
  },
  {
   "cell_type": "code",
   "execution_count": 121,
   "id": "dc38131f-e459-4baa-a374-488fdef6fb4b",
   "metadata": {},
   "outputs": [
    {
     "name": "stderr",
     "output_type": "stream",
     "text": [
      "/Users/linusjern/Uni/Dippa/code/local/.venv/lib/python3.12/site-packages/networkx/readwrite/json_graph/node_link.py:142: FutureWarning: \n",
      "The default value will be `edges=\"edges\" in NetworkX 3.6.\n",
      "\n",
      "To make this warning go away, explicitly set the edges kwarg, e.g.:\n",
      "\n",
      "  nx.node_link_data(G, edges=\"links\") to preserve current behavior, or\n",
      "  nx.node_link_data(G, edges=\"edges\") for forward compatibility.\n",
      "  warnings.warn(\n"
     ]
    }
   ],
   "source": [
    "PATH = \"graphs.json\"\n",
    "\n",
    "save_graph_list_to_json(distinct_graphs, PATH)"
   ]
  }
 ],
 "metadata": {
  "kernelspec": {
   "display_name": "Python 3 (ipykernel)",
   "language": "python",
   "name": "python3"
  },
  "language_info": {
   "codemirror_mode": {
    "name": "ipython",
    "version": 3
   },
   "file_extension": ".py",
   "mimetype": "text/x-python",
   "name": "python",
   "nbconvert_exporter": "python",
   "pygments_lexer": "ipython3",
   "version": "3.12.0"
  }
 },
 "nbformat": 4,
 "nbformat_minor": 5
}
